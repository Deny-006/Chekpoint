{
  "nbformat": 4,
  "nbformat_minor": 0,
  "metadata": {
    "colab": {
      "provenance": [],
      "toc_visible": true
    },
    "kernelspec": {
      "name": "python3",
      "display_name": "Python 3"
    },
    "language_info": {
      "name": "python"
    }
  },
  "cells": [
    {
      "cell_type": "markdown",
      "source": [
        "## **Business Understanding**"
      ],
      "metadata": {
        "id": "YXPpFpIfb6Qz"
      }
    },
    {
      "cell_type": "markdown",
      "source": [
        "**Business Objective**"
      ],
      "metadata": {
        "id": "A0f3XuSHcJDJ"
      }
    },
    {
      "cell_type": "markdown",
      "source": [
        "Tujuan utama proyek ini adalah untuk memahami faktor-faktor yang memengaruhi harga furnitur di platform e-commerce guna mendukung strategi harga yang lebih akurat dan kompetitif. Hal ini mencakup analisis berbagai atribut produk, ulasan pelanggan, dan tren pasar untuk membantu penjual dalam menentukan harga optimal serta meningkatkan daya saing di pasar. Selain itu, proyek ini juga bertujuan untuk meningkatkan pengalaman belanja pelanggan dengan memberikan rekomendasi harga yang lebih transparan dan berbasis data."
      ],
      "metadata": {
        "id": "3xF8tctgg199"
      }
    },
    {
      "cell_type": "markdown",
      "source": [
        "**Assess Situation**"
      ],
      "metadata": {
        "id": "j_Tx8aRdcRhT"
      }
    },
    {
      "cell_type": "markdown",
      "source": [
        "Situasi bisnis yang mendasari analisis ini adalah persaingan yang ketat di industri furnitur online, di mana harga menjadi faktor utama dalam keputusan pembelian pelanggan. Tren harga yang fluktuatif dan adanya diskon dari berbagai penjual menuntut adanya strategi penentuan harga yang lebih dinamis dan berbasis data. Oleh karena itu, analisis harga furnitur menjadi krusial untuk membantu bisnis dalam mengoptimalkan strategi pemasaran dan meningkatkan profitabilitas."
      ],
      "metadata": {
        "id": "ISyLTjc4g-xL"
      }
    },
    {
      "cell_type": "markdown",
      "source": [
        "**Data Mining Goals**"
      ],
      "metadata": {
        "id": "GuBV2E9GcXst"
      }
    },
    {
      "cell_type": "markdown",
      "source": [
        "Mengidentifikasi faktor utama yang memengaruhi harga furnitur dengan menganalisis berbagai atribut produk, seperti jenis furnitur, ulasan pelanggan, dan metode pengiriman. Selain itu, proyek ini bertujuan untuk membangun model prediktif yang dapat memperkirakan harga berdasarkan data historis, sehingga dapat memberikan wawasan yang lebih mendalam dalam strategi penetapan harga."
      ],
      "metadata": {
        "id": "kH6m-sPdhAn6"
      }
    },
    {
      "cell_type": "markdown",
      "source": [
        "**Project Plan**"
      ],
      "metadata": {
        "id": "OdSpFNNWcsgB"
      }
    },
    {
      "cell_type": "markdown",
      "source": [
        "**Data Understanding**: Eksplorasi dataset untuk memahami pola harga furnitur.\n",
        "\n",
        "**Data Preparation**: Pembersihan data dan transformasi yang diperlukan.\n",
        "\n",
        "**Modeling**: Prediksi harga menggunakan algoritma machine learning seperti regresi linear, random forest, atau XGBoost.\n",
        "\n",
        "**Evaluation**: Mengukur akurasi model dengan MAE, RMSE, dan R².\n",
        "\n",
        "**Deployment & Insight**: Menyediakan rekomendasi harga dan visualisasi data untuk pengambilan keputusan bisnis."
      ],
      "metadata": {
        "id": "IhNQxjtDilqV"
      }
    }
  ]
}